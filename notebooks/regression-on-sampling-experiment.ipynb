{
 "cells": [
  {
   "cell_type": "code",
   "execution_count": 227,
   "metadata": {},
   "outputs": [],
   "source": [
    "import pandas as pd \n",
    "import seaborn as sns\n",
    "import numpy as np\n",
    "import pickle\n",
    "from matplotlib import pyplot as plt\n",
    "from matplotlib.gridspec import GridSpec\n",
    "import networkx as nx\n",
    "import os\n",
    "from tqdm.notebook import tqdm\n",
    "import warnings\n",
    "warnings.filterwarnings('ignore')\n",
    "\n",
    "import multiprocessing as mp\n",
    "from multiprocessing import cpu_count\n",
    "import pickle\n",
    "#mp.set_start_method('spawn')\n",
    "from myfunctions import extract_freqs, calc_iter #custom functions\n",
    "\n",
    "from lightgbm import LGBMRegressor\n",
    "from sklearn.model_selection import cross_val_score\n",
    "from sklearn.metrics import make_scorer\n",
    "from sklearn.metrics import r2_score\n",
    "from catboost import CatBoostRegressor\n",
    "from scipy.stats import entropy\n",
    "from littleballoffur import BreadthFirstSearchSampler, \\\n",
    "                            PageRankBasedSampler, \\\n",
    "                            CommunityStructureExpansionSampler, \\\n",
    "                            MetropolisHastingsRandomWalkSampler, \\\n",
    "                            RandomWalkSampler, \\\n",
    "                            RandomNodeNeighborSampler, \\\n",
    "                            CommonNeighborAwareRandomWalkSampler"
   ]
  },
  {
   "cell_type": "markdown",
   "metadata": {},
   "source": [
    "# __Cell to compile gtscanner__\n",
    "You should just execute make in gtscanner directory"
   ]
  },
  {
   "cell_type": "markdown",
   "metadata": {},
   "source": [
    "We have some set of datasets"
   ]
  },
  {
   "cell_type": "code",
   "execution_count": 2,
   "metadata": {},
   "outputs": [],
   "source": [
    "path_to_datasets = '../datasets/'\n",
    "path_to_uniform_data = '../data/'\n",
    "path_to_output = '../output/'\n",
    "path_to_samples = '../samples/'"
   ]
  },
  {
   "cell_type": "markdown",
   "metadata": {},
   "source": [
    "functions"
   ]
  },
  {
   "cell_type": "code",
   "execution_count": 4,
   "metadata": {},
   "outputs": [],
   "source": [
    "def mean_absolute_percentage_error(y_true, y_pred): \n",
    "    y_true, y_pred = np.array(y_true), np.array(y_pred)\n",
    "    return np.mean(np.abs((y_true - y_pred) / y_true)) * 100"
   ]
  },
  {
   "cell_type": "markdown",
   "metadata": {},
   "source": [
    "## Reading datasets"
   ]
  },
  {
   "cell_type": "code",
   "execution_count": null,
   "metadata": {},
   "outputs": [],
   "source": [
    "def read_graph_data(filename, sep=',', header=None, skiprows=0):\n",
    "    edgelist = pd.read_csv(os.path.join(path_to_datasets, filename), sep=sep, skiprows=skiprows, header=header, names=['source', 'target'])\n",
    "    edgelist.to_csv(os.path.join(path_to_uniform_data, filename), index=False, header=None)\n",
    "    return nx.from_pandas_edgelist(edgelist)"
   ]
  },
  {
   "cell_type": "markdown",
   "metadata": {},
   "source": [
    "Ячейку нижу можно не запускать"
   ]
  },
  {
   "cell_type": "code",
   "execution_count": 94,
   "metadata": {},
   "outputs": [],
   "source": [
    "citeseer = read_graph_data('citeseer.cites', sep='\\t')\n",
    "deezer_europe = read_graph_data('deezer_europe_edges.csv', header=0)\n",
    "lastfm_asia = read_graph_data('lastfm_asia_edges.csv', header=0)\n",
    "cora = read_graph_data('cora.cites', sep='\\t')\n",
    "email_Eu_core = read_graph_data('email-Eu-core.txt', sep=' ')\n",
    "fb_0 = read_graph_data('0.edges', sep=' ')\n",
    "fb_1 = read_graph_data('107.edges', sep=' ')\n",
    "fb_2 = read_graph_data('348.edges', sep=' ')\n",
    "fb_3 = read_graph_data('414.edges', sep=' ')\n",
    "fb_4 = read_graph_data('686.edges', sep=' ')\n",
    "fb_5 = read_graph_data('698.edges', sep=' ')\n",
    "fb_6 = read_graph_data('1684.edges', sep=' ')\n",
    "fb_7 = read_graph_data('1912.edges', sep=' ')\n",
    "fb_8 = read_graph_data('3437.edges', sep=' ')\n",
    "fb_9 = read_graph_data('3980.edges', sep=' ')\n",
    "email_univ = read_graph_data('email-univ.edges', sep=' ')\n",
    "fb_company = read_graph_data('fb-pages-company.edges', header=0)\n",
    "fb_food = read_graph_data('fb-pages-food.edges')\n",
    "fb_politician = read_graph_data('fb-pages-politician.edges')\n",
    "fb_public_figure = read_graph_data('fb-pages-politician.edges')\n",
    "fb_tvshow = read_graph_data('fb-pages-tvshow.edges')\n",
    "soc_anybeat = read_graph_data('soc-anybeat.edges', sep=' ')\n",
    "soc_hamsterster = read_graph_data('soc-hamsterster.edges', sep=' ', skiprows=2)\n",
    "soc_wiki_vote = read_graph_data('soc-wiki-Vote.mtx', sep=' ', skiprows=2)\n",
    "cit_DBLP = read_graph_data('cit-DBLP.edges', sep=' ', skiprows=2)\n",
    "\n",
    "# list_of_graphs = [citeseer, deezer_europe, lastfm_asia, cora, email_Eu_core,\n",
    "#                   fb_0, fb_1, fb_2, fb_3, fb_4, fb_5, fb_6, fb_7, fb_8, fb_9,\n",
    "#                   email_univ, fb_company, fb_food, fb_politician, fb_public_figure,\n",
    "#                   fb_tvshow, soc_anybeat, soc_hamsterster, soc_wiki_vote, cit_DBLP]\n",
    "# len(list_of_graphs)"
   ]
  },
  {
   "cell_type": "markdown",
   "metadata": {},
   "source": [
    "## Graph classification dataset for benchmark"
   ]
  },
  {
   "cell_type": "code",
   "execution_count": 10,
   "metadata": {},
   "outputs": [
    {
     "name": "stdout",
     "output_type": "stream",
     "text": [
      "/Users/zaikoval/Documents/GitHub/regression-on-sampling/datasets\n",
      "--2020-08-30 16:02:21--  http://nrvis.com/download/data/labeled/REDDIT-BINARY.zip\n",
      "Распознаётся nrvis.com (nrvis.com)… 173.236.156.25\n",
      "Подключение к nrvis.com (nrvis.com)|173.236.156.25|:80... соединение установлено.\n",
      "HTTP-запрос отправлен. Ожидание ответа… 200 OK\n",
      "Длина: 9924710 (9,5M) [application/zip]\n",
      "Сохранение в: «REDDIT-BINARY.zip»\n",
      "\n",
      "REDDIT-BINARY.zip   100%[===================>]   9,46M  2,08MB/s    за 7,7s    \n",
      "\n",
      "2020-08-30 16:02:29 (1,23 MB/s) - «REDDIT-BINARY.zip» сохранён [9924710/9924710]\n",
      "\n",
      "Archive:  REDDIT-BINARY.zip\n",
      "  inflating: REDDIT-BINARY.edges     \n",
      "  inflating: readme.html             \n",
      "  inflating: REDDIT-BINARY.graph_idx  \n",
      "  inflating: REDDIT-BINARY.graph_labels  \n",
      "  inflating: REDDIT-BINARY.readme    \n",
      "/Users/zaikoval/Documents/GitHub/regression-on-sampling/notebooks\n"
     ]
    }
   ],
   "source": [
    "%cd ../datasets/\n",
    "!wget http://nrvis.com/download/data/labeled/REDDIT-BINARY.zip\n",
    "!wget http://nrvis.com/download/data/labeled/COLLAB.zip\n",
    "!unzip REDDIT-BINARY.zip\n",
    "!unzip COLLAB.zip\n",
    "%cd ../notebooks/"
   ]
  },
  {
   "cell_type": "code",
   "execution_count": 5,
   "metadata": {},
   "outputs": [],
   "source": [
    "edges = pd.read_csv(os.path.join(path_to_datasets, 'REDDIT-BINARY.edges'), header=None, names=['source', 'target'])"
   ]
  },
  {
   "cell_type": "code",
   "execution_count": 6,
   "metadata": {},
   "outputs": [],
   "source": [
    "full_graph = nx.from_pandas_edgelist(edges)"
   ]
  },
  {
   "cell_type": "code",
   "execution_count": 7,
   "metadata": {},
   "outputs": [],
   "source": [
    "graph_idx = pd.read_csv(os.path.join(path_to_datasets, 'REDDIT-BINARY.graph_idx'), header=None)"
   ]
  },
  {
   "cell_type": "code",
   "execution_count": 8,
   "metadata": {},
   "outputs": [
    {
     "data": {
      "application/vnd.jupyter.widget-view+json": {
       "model_id": "426f5befcb1b4785a55ceeed9432a794",
       "version_major": 2,
       "version_minor": 0
      },
      "text/plain": [
       "HBox(children=(FloatProgress(value=0.0, max=2000.0), HTML(value='')))"
      ]
     },
     "metadata": {},
     "output_type": "display_data"
    },
    {
     "name": "stdout",
     "output_type": "stream",
     "text": [
      "\n"
     ]
    }
   ],
   "source": [
    "graphs = list()\n",
    "for i in tqdm(graph_idx[0].unique()):\n",
    "    set_of_nodes = graph_idx[graph_idx[0] == i].index + 1\n",
    "    subgraph = nx.subgraph(full_graph, set_of_nodes)\n",
    "    connected_subgraph = nx.subgraph(full_graph, max(nx.connected_components(subgraph), key=len)) #extract max connected subgraph\n",
    "    graphs.append(connected_subgraph)"
   ]
  },
  {
   "cell_type": "code",
   "execution_count": 15,
   "metadata": {},
   "outputs": [],
   "source": [
    "graphs = graphs[:200] # take only part of graphs to make it faster"
   ]
  },
  {
   "cell_type": "markdown",
   "metadata": {},
   "source": [
    "## Compute number of iterations\n",
    "Можно не запускать, так как ниже есть сохраненный файл для 200 графов"
   ]
  },
  {
   "cell_type": "code",
   "execution_count": 20,
   "metadata": {},
   "outputs": [
    {
     "data": {
      "application/vnd.jupyter.widget-view+json": {
       "model_id": "99e9fd96ae40422c9a786488bc6acd31",
       "version_major": 2,
       "version_minor": 0
      },
      "text/plain": [
       "HBox(children=(FloatProgress(value=0.0, max=200.0), HTML(value='')))"
      ]
     },
     "metadata": {},
     "output_type": "display_data"
    },
    {
     "name": "stderr",
     "output_type": "stream",
     "text": [
      "/home/zaikoval/anaconda3/lib/python3.7/site-packages/ndlib/models/DiffusionModel.py:170: UserWarning: The fraction_infected value is too low given the number of nodes of the selected graph: a single node will be set as infected\n",
      "  \"The fraction_infected value is too low given the number of nodes of the selected graph: a \"\n",
      "/home/zaikoval/anaconda3/lib/python3.7/site-packages/ndlib/models/DiffusionModel.py:170: UserWarning: The fraction_infected value is too low given the number of nodes of the selected graph: a single node will be set as infected\n",
      "  \"The fraction_infected value is too low given the number of nodes of the selected graph: a \"\n",
      "/home/zaikoval/anaconda3/lib/python3.7/site-packages/ndlib/models/DiffusionModel.py:170: UserWarning: The fraction_infected value is too low given the number of nodes of the selected graph: a single node will be set as infected\n",
      "  \"The fraction_infected value is too low given the number of nodes of the selected graph: a \"\n"
     ]
    },
    {
     "name": "stdout",
     "output_type": "stream",
     "text": [
      "\n"
     ]
    }
   ],
   "source": [
    "parellel = False # change to True to compute in parallel\n",
    "chunksize = 6 # vary this value to speedup parallel computation\n",
    "\n",
    "iterations = [] \n",
    "\n",
    "if parellel:\n",
    "    with mp.Pool(cpu_count()) as p:\n",
    "        iterations = list(tqdm(p.imap(calc_iter, graphs, chunksize=chunksize), total=len(graphs)))\n",
    "else:\n",
    "    for elem in tqdm(graphs):\n",
    "        iterations.append(calc_iter(elem))\n",
    "        \n",
    "#pd.DataFrame(iterations).to_csv(os.path.join(path_to_output, 'ndlib/ndlib.csv'), index=False, header=None)"
   ]
  },
  {
   "cell_type": "code",
   "execution_count": 410,
   "metadata": {},
   "outputs": [
    {
     "name": "stderr",
     "output_type": "stream",
     "text": [
      " 20%|██        | 40/200 [01:01<04:13,  1.59s/it]"
     ]
    },
    {
     "ename": "KeyboardInterrupt",
     "evalue": "",
     "output_type": "error",
     "traceback": [
      "\u001b[0;31m---------------------------------------------------------------------------\u001b[0m",
      "\u001b[0;31mKeyboardInterrupt\u001b[0m                         Traceback (most recent call last)",
      "\u001b[0;32m<ipython-input-410-7b566cd33cf6>\u001b[0m in \u001b[0;36m<module>\u001b[0;34m\u001b[0m\n\u001b[1;32m      4\u001b[0m \u001b[0;34m\u001b[0m\u001b[0m\n\u001b[1;32m      5\u001b[0m \u001b[0mnum_cores\u001b[0m \u001b[0;34m=\u001b[0m \u001b[0mmp\u001b[0m\u001b[0;34m.\u001b[0m\u001b[0mcpu_count\u001b[0m\u001b[0;34m(\u001b[0m\u001b[0;34m)\u001b[0m\u001b[0;34m\u001b[0m\u001b[0;34m\u001b[0m\u001b[0m\n\u001b[0;32m----> 6\u001b[0;31m \u001b[0mprocessed_list\u001b[0m \u001b[0;34m=\u001b[0m \u001b[0mParallel\u001b[0m\u001b[0;34m(\u001b[0m\u001b[0mn_jobs\u001b[0m\u001b[0;34m=\u001b[0m\u001b[0mnum_cores\u001b[0m\u001b[0;34m)\u001b[0m\u001b[0;34m(\u001b[0m\u001b[0mdelayed\u001b[0m\u001b[0;34m(\u001b[0m\u001b[0mcalc_iter\u001b[0m\u001b[0;34m)\u001b[0m\u001b[0;34m(\u001b[0m\u001b[0mi\u001b[0m\u001b[0;34m)\u001b[0m \u001b[0;32mfor\u001b[0m \u001b[0mi\u001b[0m \u001b[0;32min\u001b[0m \u001b[0mtqdm\u001b[0m\u001b[0;34m(\u001b[0m\u001b[0mgraphs\u001b[0m\u001b[0;34m)\u001b[0m\u001b[0;34m)\u001b[0m\u001b[0;34m\u001b[0m\u001b[0;34m\u001b[0m\u001b[0m\n\u001b[0m",
      "\u001b[0;32m~/opt/anaconda3/envs/gt/lib/python3.8/site-packages/joblib/parallel.py\u001b[0m in \u001b[0;36m__call__\u001b[0;34m(self, iterable)\u001b[0m\n\u001b[1;32m   1040\u001b[0m \u001b[0;34m\u001b[0m\u001b[0m\n\u001b[1;32m   1041\u001b[0m             \u001b[0;32mwith\u001b[0m \u001b[0mself\u001b[0m\u001b[0;34m.\u001b[0m\u001b[0m_backend\u001b[0m\u001b[0;34m.\u001b[0m\u001b[0mretrieval_context\u001b[0m\u001b[0;34m(\u001b[0m\u001b[0;34m)\u001b[0m\u001b[0;34m:\u001b[0m\u001b[0;34m\u001b[0m\u001b[0;34m\u001b[0m\u001b[0m\n\u001b[0;32m-> 1042\u001b[0;31m                 \u001b[0mself\u001b[0m\u001b[0;34m.\u001b[0m\u001b[0mretrieve\u001b[0m\u001b[0;34m(\u001b[0m\u001b[0;34m)\u001b[0m\u001b[0;34m\u001b[0m\u001b[0;34m\u001b[0m\u001b[0m\n\u001b[0m\u001b[1;32m   1043\u001b[0m             \u001b[0;31m# Make sure that we get a last message telling us we are done\u001b[0m\u001b[0;34m\u001b[0m\u001b[0;34m\u001b[0m\u001b[0;34m\u001b[0m\u001b[0m\n\u001b[1;32m   1044\u001b[0m             \u001b[0melapsed_time\u001b[0m \u001b[0;34m=\u001b[0m \u001b[0mtime\u001b[0m\u001b[0;34m.\u001b[0m\u001b[0mtime\u001b[0m\u001b[0;34m(\u001b[0m\u001b[0;34m)\u001b[0m \u001b[0;34m-\u001b[0m \u001b[0mself\u001b[0m\u001b[0;34m.\u001b[0m\u001b[0m_start_time\u001b[0m\u001b[0;34m\u001b[0m\u001b[0;34m\u001b[0m\u001b[0m\n",
      "\u001b[0;32m~/opt/anaconda3/envs/gt/lib/python3.8/site-packages/joblib/parallel.py\u001b[0m in \u001b[0;36mretrieve\u001b[0;34m(self)\u001b[0m\n\u001b[1;32m    919\u001b[0m             \u001b[0;32mtry\u001b[0m\u001b[0;34m:\u001b[0m\u001b[0;34m\u001b[0m\u001b[0;34m\u001b[0m\u001b[0m\n\u001b[1;32m    920\u001b[0m                 \u001b[0;32mif\u001b[0m \u001b[0mgetattr\u001b[0m\u001b[0;34m(\u001b[0m\u001b[0mself\u001b[0m\u001b[0;34m.\u001b[0m\u001b[0m_backend\u001b[0m\u001b[0;34m,\u001b[0m \u001b[0;34m'supports_timeout'\u001b[0m\u001b[0;34m,\u001b[0m \u001b[0;32mFalse\u001b[0m\u001b[0;34m)\u001b[0m\u001b[0;34m:\u001b[0m\u001b[0;34m\u001b[0m\u001b[0;34m\u001b[0m\u001b[0m\n\u001b[0;32m--> 921\u001b[0;31m                     \u001b[0mself\u001b[0m\u001b[0;34m.\u001b[0m\u001b[0m_output\u001b[0m\u001b[0;34m.\u001b[0m\u001b[0mextend\u001b[0m\u001b[0;34m(\u001b[0m\u001b[0mjob\u001b[0m\u001b[0;34m.\u001b[0m\u001b[0mget\u001b[0m\u001b[0;34m(\u001b[0m\u001b[0mtimeout\u001b[0m\u001b[0;34m=\u001b[0m\u001b[0mself\u001b[0m\u001b[0;34m.\u001b[0m\u001b[0mtimeout\u001b[0m\u001b[0;34m)\u001b[0m\u001b[0;34m)\u001b[0m\u001b[0;34m\u001b[0m\u001b[0;34m\u001b[0m\u001b[0m\n\u001b[0m\u001b[1;32m    922\u001b[0m                 \u001b[0;32melse\u001b[0m\u001b[0;34m:\u001b[0m\u001b[0;34m\u001b[0m\u001b[0;34m\u001b[0m\u001b[0m\n\u001b[1;32m    923\u001b[0m                     \u001b[0mself\u001b[0m\u001b[0;34m.\u001b[0m\u001b[0m_output\u001b[0m\u001b[0;34m.\u001b[0m\u001b[0mextend\u001b[0m\u001b[0;34m(\u001b[0m\u001b[0mjob\u001b[0m\u001b[0;34m.\u001b[0m\u001b[0mget\u001b[0m\u001b[0;34m(\u001b[0m\u001b[0;34m)\u001b[0m\u001b[0;34m)\u001b[0m\u001b[0;34m\u001b[0m\u001b[0;34m\u001b[0m\u001b[0m\n",
      "\u001b[0;32m~/opt/anaconda3/envs/gt/lib/python3.8/site-packages/joblib/_parallel_backends.py\u001b[0m in \u001b[0;36mwrap_future_result\u001b[0;34m(future, timeout)\u001b[0m\n\u001b[1;32m    540\u001b[0m         AsyncResults.get from multiprocessing.\"\"\"\n\u001b[1;32m    541\u001b[0m         \u001b[0;32mtry\u001b[0m\u001b[0;34m:\u001b[0m\u001b[0;34m\u001b[0m\u001b[0;34m\u001b[0m\u001b[0m\n\u001b[0;32m--> 542\u001b[0;31m             \u001b[0;32mreturn\u001b[0m \u001b[0mfuture\u001b[0m\u001b[0;34m.\u001b[0m\u001b[0mresult\u001b[0m\u001b[0;34m(\u001b[0m\u001b[0mtimeout\u001b[0m\u001b[0;34m=\u001b[0m\u001b[0mtimeout\u001b[0m\u001b[0;34m)\u001b[0m\u001b[0;34m\u001b[0m\u001b[0;34m\u001b[0m\u001b[0m\n\u001b[0m\u001b[1;32m    543\u001b[0m         \u001b[0;32mexcept\u001b[0m \u001b[0mCfTimeoutError\u001b[0m \u001b[0;32mas\u001b[0m \u001b[0me\u001b[0m\u001b[0;34m:\u001b[0m\u001b[0;34m\u001b[0m\u001b[0;34m\u001b[0m\u001b[0m\n\u001b[1;32m    544\u001b[0m             \u001b[0;32mraise\u001b[0m \u001b[0mTimeoutError\u001b[0m \u001b[0;32mfrom\u001b[0m \u001b[0me\u001b[0m\u001b[0;34m\u001b[0m\u001b[0;34m\u001b[0m\u001b[0m\n",
      "\u001b[0;32m~/opt/anaconda3/envs/gt/lib/python3.8/concurrent/futures/_base.py\u001b[0m in \u001b[0;36mresult\u001b[0;34m(self, timeout)\u001b[0m\n\u001b[1;32m    432\u001b[0m                 \u001b[0;32mreturn\u001b[0m \u001b[0mself\u001b[0m\u001b[0;34m.\u001b[0m\u001b[0m__get_result\u001b[0m\u001b[0;34m(\u001b[0m\u001b[0;34m)\u001b[0m\u001b[0;34m\u001b[0m\u001b[0;34m\u001b[0m\u001b[0m\n\u001b[1;32m    433\u001b[0m \u001b[0;34m\u001b[0m\u001b[0m\n\u001b[0;32m--> 434\u001b[0;31m             \u001b[0mself\u001b[0m\u001b[0;34m.\u001b[0m\u001b[0m_condition\u001b[0m\u001b[0;34m.\u001b[0m\u001b[0mwait\u001b[0m\u001b[0;34m(\u001b[0m\u001b[0mtimeout\u001b[0m\u001b[0;34m)\u001b[0m\u001b[0;34m\u001b[0m\u001b[0;34m\u001b[0m\u001b[0m\n\u001b[0m\u001b[1;32m    435\u001b[0m \u001b[0;34m\u001b[0m\u001b[0m\n\u001b[1;32m    436\u001b[0m             \u001b[0;32mif\u001b[0m \u001b[0mself\u001b[0m\u001b[0;34m.\u001b[0m\u001b[0m_state\u001b[0m \u001b[0;32min\u001b[0m \u001b[0;34m[\u001b[0m\u001b[0mCANCELLED\u001b[0m\u001b[0;34m,\u001b[0m \u001b[0mCANCELLED_AND_NOTIFIED\u001b[0m\u001b[0;34m]\u001b[0m\u001b[0;34m:\u001b[0m\u001b[0;34m\u001b[0m\u001b[0;34m\u001b[0m\u001b[0m\n",
      "\u001b[0;32m~/opt/anaconda3/envs/gt/lib/python3.8/threading.py\u001b[0m in \u001b[0;36mwait\u001b[0;34m(self, timeout)\u001b[0m\n\u001b[1;32m    300\u001b[0m         \u001b[0;32mtry\u001b[0m\u001b[0;34m:\u001b[0m    \u001b[0;31m# restore state no matter what (e.g., KeyboardInterrupt)\u001b[0m\u001b[0;34m\u001b[0m\u001b[0;34m\u001b[0m\u001b[0m\n\u001b[1;32m    301\u001b[0m             \u001b[0;32mif\u001b[0m \u001b[0mtimeout\u001b[0m \u001b[0;32mis\u001b[0m \u001b[0;32mNone\u001b[0m\u001b[0;34m:\u001b[0m\u001b[0;34m\u001b[0m\u001b[0;34m\u001b[0m\u001b[0m\n\u001b[0;32m--> 302\u001b[0;31m                 \u001b[0mwaiter\u001b[0m\u001b[0;34m.\u001b[0m\u001b[0macquire\u001b[0m\u001b[0;34m(\u001b[0m\u001b[0;34m)\u001b[0m\u001b[0;34m\u001b[0m\u001b[0;34m\u001b[0m\u001b[0m\n\u001b[0m\u001b[1;32m    303\u001b[0m                 \u001b[0mgotit\u001b[0m \u001b[0;34m=\u001b[0m \u001b[0;32mTrue\u001b[0m\u001b[0;34m\u001b[0m\u001b[0;34m\u001b[0m\u001b[0m\n\u001b[1;32m    304\u001b[0m             \u001b[0;32melse\u001b[0m\u001b[0;34m:\u001b[0m\u001b[0;34m\u001b[0m\u001b[0;34m\u001b[0m\u001b[0m\n",
      "\u001b[0;31mKeyboardInterrupt\u001b[0m: "
     ]
    }
   ],
   "source": [
    "import multiprocessing\n",
    "from joblib import Parallel, delayed\n",
    "from tqdm import tqdm\n",
    "\n",
    "num_cores = mp.cpu_count()\n",
    "processed_list = Parallel(n_jobs=num_cores)(delayed(calc_iter)(i) for i in tqdm(graphs))"
   ]
  },
  {
   "cell_type": "code",
   "execution_count": 20,
   "metadata": {},
   "outputs": [
    {
     "data": {
      "text/html": [
       "<div>\n",
       "<style scoped>\n",
       "    .dataframe tbody tr th:only-of-type {\n",
       "        vertical-align: middle;\n",
       "    }\n",
       "\n",
       "    .dataframe tbody tr th {\n",
       "        vertical-align: top;\n",
       "    }\n",
       "\n",
       "    .dataframe thead th {\n",
       "        text-align: right;\n",
       "    }\n",
       "</style>\n",
       "<table border=\"1\" class=\"dataframe\">\n",
       "  <thead>\n",
       "    <tr style=\"text-align: right;\">\n",
       "      <th></th>\n",
       "      <th>0</th>\n",
       "    </tr>\n",
       "  </thead>\n",
       "  <tbody>\n",
       "    <tr>\n",
       "      <th>0</th>\n",
       "      <td>32.9</td>\n",
       "    </tr>\n",
       "    <tr>\n",
       "      <th>1</th>\n",
       "      <td>40.2</td>\n",
       "    </tr>\n",
       "    <tr>\n",
       "      <th>2</th>\n",
       "      <td>45.9</td>\n",
       "    </tr>\n",
       "    <tr>\n",
       "      <th>3</th>\n",
       "      <td>38.3</td>\n",
       "    </tr>\n",
       "    <tr>\n",
       "      <th>4</th>\n",
       "      <td>41.6</td>\n",
       "    </tr>\n",
       "    <tr>\n",
       "      <th>...</th>\n",
       "      <td>...</td>\n",
       "    </tr>\n",
       "    <tr>\n",
       "      <th>195</th>\n",
       "      <td>38.0</td>\n",
       "    </tr>\n",
       "    <tr>\n",
       "      <th>196</th>\n",
       "      <td>47.4</td>\n",
       "    </tr>\n",
       "    <tr>\n",
       "      <th>197</th>\n",
       "      <td>38.3</td>\n",
       "    </tr>\n",
       "    <tr>\n",
       "      <th>198</th>\n",
       "      <td>45.7</td>\n",
       "    </tr>\n",
       "    <tr>\n",
       "      <th>199</th>\n",
       "      <td>40.1</td>\n",
       "    </tr>\n",
       "  </tbody>\n",
       "</table>\n",
       "<p>200 rows × 1 columns</p>\n",
       "</div>"
      ],
      "text/plain": [
       "        0\n",
       "0    32.9\n",
       "1    40.2\n",
       "2    45.9\n",
       "3    38.3\n",
       "4    41.6\n",
       "..    ...\n",
       "195  38.0\n",
       "196  47.4\n",
       "197  38.3\n",
       "198  45.7\n",
       "199  40.1\n",
       "\n",
       "[200 rows x 1 columns]"
      ]
     },
     "execution_count": 20,
     "metadata": {},
     "output_type": "execute_result"
    }
   ],
   "source": [
    "ndl_data = pd.read_csv(os.path.join(path_to_output, 'ndlib/ndlib.csv'), header=None)\n",
    "ndl_data"
   ]
  },
  {
   "cell_type": "markdown",
   "metadata": {},
   "source": [
    "## Compute motif distribution for graphs\n",
    "Также можно не запускать, ниже готовый файл для 200 графов"
   ]
  },
  {
   "cell_type": "code",
   "execution_count": 408,
   "metadata": {},
   "outputs": [
    {
     "data": {
      "application/vnd.jupyter.widget-view+json": {
       "model_id": "fed0ec304cac48679c1d0f1a6373e6dc",
       "version_major": 2,
       "version_minor": 0
      },
      "text/plain": [
       "HBox(children=(FloatProgress(value=0.0, max=200.0), HTML(value='')))"
      ]
     },
     "metadata": {},
     "output_type": "display_data"
    },
    {
     "name": "stdout",
     "output_type": "stream",
     "text": [
      "\n"
     ]
    },
    {
     "ename": "KeyboardInterrupt",
     "evalue": "",
     "output_type": "error",
     "traceback": [
      "\u001b[0;31m---------------------------------------------------------------------------\u001b[0m",
      "\u001b[0;31mKeyboardInterrupt\u001b[0m                         Traceback (most recent call last)",
      "\u001b[0;32m<ipython-input-408-4be2a049dac0>\u001b[0m in \u001b[0;36m<module>\u001b[0;34m\u001b[0m\n\u001b[1;32m      1\u001b[0m \u001b[0mfreqs\u001b[0m \u001b[0;34m=\u001b[0m \u001b[0;34m[\u001b[0m\u001b[0;34m]\u001b[0m\u001b[0;34m\u001b[0m\u001b[0;34m\u001b[0m\u001b[0m\n\u001b[1;32m      2\u001b[0m \u001b[0;32mfor\u001b[0m \u001b[0mitem\u001b[0m \u001b[0;32min\u001b[0m \u001b[0mtqdm\u001b[0m\u001b[0;34m(\u001b[0m\u001b[0mgraphs\u001b[0m\u001b[0;34m)\u001b[0m\u001b[0;34m:\u001b[0m\u001b[0;34m\u001b[0m\u001b[0;34m\u001b[0m\u001b[0m\n\u001b[0;32m----> 3\u001b[0;31m     \u001b[0mfreqs\u001b[0m\u001b[0;34m.\u001b[0m\u001b[0mappend\u001b[0m\u001b[0;34m(\u001b[0m\u001b[0mextract_freqs\u001b[0m\u001b[0;34m(\u001b[0m\u001b[0mitem\u001b[0m\u001b[0;34m,\u001b[0m \u001b[0msize\u001b[0m\u001b[0;34m=\u001b[0m\u001b[0;36m4\u001b[0m\u001b[0;34m,\u001b[0m \u001b[0mrandom\u001b[0m\u001b[0;34m=\u001b[0m\u001b[0;36m10\u001b[0m\u001b[0;34m)\u001b[0m\u001b[0;34m)\u001b[0m \u001b[0;31m#already in parallel\u001b[0m\u001b[0;34m\u001b[0m\u001b[0;34m\u001b[0m\u001b[0m\n\u001b[0m\u001b[1;32m      4\u001b[0m \u001b[0;31m#pd.DataFrame(freqs).to_csv(os.path.join(path_to_output, 'freqs.csv'), index=False, header=None)\u001b[0m\u001b[0;34m\u001b[0m\u001b[0;34m\u001b[0m\u001b[0;34m\u001b[0m\u001b[0m\n\u001b[1;32m      5\u001b[0m \u001b[0;31m# pay attention to the available parameters in extract_freqs function\u001b[0m\u001b[0;34m\u001b[0m\u001b[0;34m\u001b[0m\u001b[0;34m\u001b[0m\u001b[0m\n",
      "\u001b[0;32m~/Documents/GitHub/regression-on-sampling/notebooks/myfunctions.py\u001b[0m in \u001b[0;36mextract_freqs\u001b[0;34m(graph, size, random, algo, threads, output)\u001b[0m\n\u001b[1;32m     38\u001b[0m     \u001b[0;34m+\u001b[0m \u001b[0;34m' -r '\u001b[0m \u001b[0;34m+\u001b[0m \u001b[0mstr\u001b[0m\u001b[0;34m(\u001b[0m\u001b[0mrandom\u001b[0m\u001b[0;34m)\u001b[0m\u001b[0;31m \u001b[0m\u001b[0;31m\\\u001b[0m\u001b[0;34m\u001b[0m\u001b[0;34m\u001b[0m\u001b[0m\n\u001b[1;32m     39\u001b[0m     \u001b[0;34m+\u001b[0m \u001b[0;34m' -th '\u001b[0m \u001b[0;34m+\u001b[0m \u001b[0mstr\u001b[0m\u001b[0;34m(\u001b[0m\u001b[0mthreads\u001b[0m\u001b[0;34m)\u001b[0m \u001b[0;31m#change to format string\u001b[0m\u001b[0;34m\u001b[0m\u001b[0;34m\u001b[0m\u001b[0m\n\u001b[0;32m---> 40\u001b[0;31m     \u001b[0manswer\u001b[0m \u001b[0;34m=\u001b[0m \u001b[0mos\u001b[0m\u001b[0;34m.\u001b[0m\u001b[0mpopen\u001b[0m\u001b[0;34m(\u001b[0m\u001b[0mcmd\u001b[0m\u001b[0;34m)\u001b[0m\u001b[0;34m.\u001b[0m\u001b[0mread\u001b[0m\u001b[0;34m(\u001b[0m\u001b[0;34m)\u001b[0m\u001b[0;34m\u001b[0m\u001b[0;34m\u001b[0m\u001b[0m\n\u001b[0m\u001b[1;32m     41\u001b[0m     \u001b[0;31m#print(answer)\u001b[0m\u001b[0;34m\u001b[0m\u001b[0;34m\u001b[0m\u001b[0;34m\u001b[0m\u001b[0m\n\u001b[1;32m     42\u001b[0m \u001b[0;34m\u001b[0m\u001b[0m\n",
      "\u001b[0;31mKeyboardInterrupt\u001b[0m: "
     ]
    }
   ],
   "source": [
    "freqs = []\n",
    "for item in tqdm(graphs): \n",
    "    freqs.append(extract_freqs(item, size=4, random=10)) #already in parallel\n",
    "#pd.DataFrame(freqs).to_csv(os.path.join(path_to_output, 'freqs.csv'), index=False, header=None)\n",
    "# pay attention to the available parameters in extract_freqs function"
   ]
  },
  {
   "cell_type": "code",
   "execution_count": 294,
   "metadata": {},
   "outputs": [
    {
     "data": {
      "text/html": [
       "<div>\n",
       "<style scoped>\n",
       "    .dataframe tbody tr th:only-of-type {\n",
       "        vertical-align: middle;\n",
       "    }\n",
       "\n",
       "    .dataframe tbody tr th {\n",
       "        vertical-align: top;\n",
       "    }\n",
       "\n",
       "    .dataframe thead th {\n",
       "        text-align: right;\n",
       "    }\n",
       "</style>\n",
       "<table border=\"1\" class=\"dataframe\">\n",
       "  <thead>\n",
       "    <tr style=\"text-align: right;\">\n",
       "      <th></th>\n",
       "      <th>0</th>\n",
       "      <th>1</th>\n",
       "      <th>2</th>\n",
       "      <th>3</th>\n",
       "      <th>4</th>\n",
       "      <th>5</th>\n",
       "      <th>6</th>\n",
       "      <th>7</th>\n",
       "      <th>8</th>\n",
       "      <th>9</th>\n",
       "      <th>10</th>\n",
       "      <th>11</th>\n",
       "    </tr>\n",
       "  </thead>\n",
       "  <tbody>\n",
       "    <tr>\n",
       "      <th>0</th>\n",
       "      <td>0.023235</td>\n",
       "      <td>0.000034</td>\n",
       "      <td>0.974224</td>\n",
       "      <td>0.002493</td>\n",
       "      <td>0.000014</td>\n",
       "      <td>0.0</td>\n",
       "      <td>0.046806</td>\n",
       "      <td>-0.020803</td>\n",
       "      <td>0.655286</td>\n",
       "      <td>-0.669154</td>\n",
       "      <td>-0.346712</td>\n",
       "      <td>0.0</td>\n",
       "    </tr>\n",
       "    <tr>\n",
       "      <th>1</th>\n",
       "      <td>0.008805</td>\n",
       "      <td>0.000022</td>\n",
       "      <td>0.990187</td>\n",
       "      <td>0.000983</td>\n",
       "      <td>0.000003</td>\n",
       "      <td>0.0</td>\n",
       "      <td>-0.372722</td>\n",
       "      <td>0.196123</td>\n",
       "      <td>0.610110</td>\n",
       "      <td>-0.619428</td>\n",
       "      <td>-0.258243</td>\n",
       "      <td>0.0</td>\n",
       "    </tr>\n",
       "    <tr>\n",
       "      <th>2</th>\n",
       "      <td>0.037216</td>\n",
       "      <td>0.000047</td>\n",
       "      <td>0.956137</td>\n",
       "      <td>0.006533</td>\n",
       "      <td>0.000067</td>\n",
       "      <td>0.0</td>\n",
       "      <td>-0.424974</td>\n",
       "      <td>-0.163452</td>\n",
       "      <td>0.572081</td>\n",
       "      <td>-0.578891</td>\n",
       "      <td>-0.360956</td>\n",
       "      <td>0.0</td>\n",
       "    </tr>\n",
       "    <tr>\n",
       "      <th>3</th>\n",
       "      <td>0.015102</td>\n",
       "      <td>0.000026</td>\n",
       "      <td>0.982784</td>\n",
       "      <td>0.002080</td>\n",
       "      <td>0.000009</td>\n",
       "      <td>0.0</td>\n",
       "      <td>0.010402</td>\n",
       "      <td>0.093621</td>\n",
       "      <td>0.633388</td>\n",
       "      <td>-0.638012</td>\n",
       "      <td>-0.427653</td>\n",
       "      <td>0.0</td>\n",
       "    </tr>\n",
       "    <tr>\n",
       "      <th>4</th>\n",
       "      <td>0.019005</td>\n",
       "      <td>0.000057</td>\n",
       "      <td>0.979387</td>\n",
       "      <td>0.001545</td>\n",
       "      <td>0.000005</td>\n",
       "      <td>0.0</td>\n",
       "      <td>-0.640980</td>\n",
       "      <td>-0.016075</td>\n",
       "      <td>0.501331</td>\n",
       "      <td>-0.516401</td>\n",
       "      <td>-0.266238</td>\n",
       "      <td>0.0</td>\n",
       "    </tr>\n",
       "    <tr>\n",
       "      <th>...</th>\n",
       "      <td>...</td>\n",
       "      <td>...</td>\n",
       "      <td>...</td>\n",
       "      <td>...</td>\n",
       "      <td>...</td>\n",
       "      <td>...</td>\n",
       "      <td>...</td>\n",
       "      <td>...</td>\n",
       "      <td>...</td>\n",
       "      <td>...</td>\n",
       "      <td>...</td>\n",
       "      <td>...</td>\n",
       "    </tr>\n",
       "    <tr>\n",
       "      <th>195</th>\n",
       "      <td>0.033012</td>\n",
       "      <td>0.000077</td>\n",
       "      <td>0.962028</td>\n",
       "      <td>0.004842</td>\n",
       "      <td>0.000040</td>\n",
       "      <td>0.0</td>\n",
       "      <td>0.285519</td>\n",
       "      <td>0.042190</td>\n",
       "      <td>0.616171</td>\n",
       "      <td>-0.630889</td>\n",
       "      <td>-0.372842</td>\n",
       "      <td>0.0</td>\n",
       "    </tr>\n",
       "    <tr>\n",
       "      <th>196</th>\n",
       "      <td>0.244257</td>\n",
       "      <td>0.001288</td>\n",
       "      <td>0.748766</td>\n",
       "      <td>0.005635</td>\n",
       "      <td>0.000054</td>\n",
       "      <td>0.0</td>\n",
       "      <td>0.347243</td>\n",
       "      <td>0.046867</td>\n",
       "      <td>0.592231</td>\n",
       "      <td>-0.619925</td>\n",
       "      <td>-0.377068</td>\n",
       "      <td>0.0</td>\n",
       "    </tr>\n",
       "    <tr>\n",
       "      <th>197</th>\n",
       "      <td>0.025558</td>\n",
       "      <td>0.000049</td>\n",
       "      <td>0.972453</td>\n",
       "      <td>0.001935</td>\n",
       "      <td>0.000005</td>\n",
       "      <td>0.0</td>\n",
       "      <td>-0.520757</td>\n",
       "      <td>-0.062980</td>\n",
       "      <td>0.552717</td>\n",
       "      <td>-0.555537</td>\n",
       "      <td>-0.332758</td>\n",
       "      <td>0.0</td>\n",
       "    </tr>\n",
       "    <tr>\n",
       "      <th>198</th>\n",
       "      <td>0.026766</td>\n",
       "      <td>0.000060</td>\n",
       "      <td>0.971582</td>\n",
       "      <td>0.001587</td>\n",
       "      <td>0.000005</td>\n",
       "      <td>0.0</td>\n",
       "      <td>-0.366340</td>\n",
       "      <td>-0.057350</td>\n",
       "      <td>0.609786</td>\n",
       "      <td>-0.620320</td>\n",
       "      <td>-0.325376</td>\n",
       "      <td>0.0</td>\n",
       "    </tr>\n",
       "    <tr>\n",
       "      <th>199</th>\n",
       "      <td>0.058705</td>\n",
       "      <td>0.000477</td>\n",
       "      <td>0.936481</td>\n",
       "      <td>0.004257</td>\n",
       "      <td>0.000080</td>\n",
       "      <td>0.0</td>\n",
       "      <td>-0.392369</td>\n",
       "      <td>0.182354</td>\n",
       "      <td>0.581894</td>\n",
       "      <td>-0.617750</td>\n",
       "      <td>-0.304265</td>\n",
       "      <td>0.0</td>\n",
       "    </tr>\n",
       "  </tbody>\n",
       "</table>\n",
       "<p>200 rows × 12 columns</p>\n",
       "</div>"
      ],
      "text/plain": [
       "           0         1         2         3         4    5         6   \\\n",
       "0    0.023235  0.000034  0.974224  0.002493  0.000014  0.0  0.046806   \n",
       "1    0.008805  0.000022  0.990187  0.000983  0.000003  0.0 -0.372722   \n",
       "2    0.037216  0.000047  0.956137  0.006533  0.000067  0.0 -0.424974   \n",
       "3    0.015102  0.000026  0.982784  0.002080  0.000009  0.0  0.010402   \n",
       "4    0.019005  0.000057  0.979387  0.001545  0.000005  0.0 -0.640980   \n",
       "..        ...       ...       ...       ...       ...  ...       ...   \n",
       "195  0.033012  0.000077  0.962028  0.004842  0.000040  0.0  0.285519   \n",
       "196  0.244257  0.001288  0.748766  0.005635  0.000054  0.0  0.347243   \n",
       "197  0.025558  0.000049  0.972453  0.001935  0.000005  0.0 -0.520757   \n",
       "198  0.026766  0.000060  0.971582  0.001587  0.000005  0.0 -0.366340   \n",
       "199  0.058705  0.000477  0.936481  0.004257  0.000080  0.0 -0.392369   \n",
       "\n",
       "           7         8         9         10   11  \n",
       "0   -0.020803  0.655286 -0.669154 -0.346712  0.0  \n",
       "1    0.196123  0.610110 -0.619428 -0.258243  0.0  \n",
       "2   -0.163452  0.572081 -0.578891 -0.360956  0.0  \n",
       "3    0.093621  0.633388 -0.638012 -0.427653  0.0  \n",
       "4   -0.016075  0.501331 -0.516401 -0.266238  0.0  \n",
       "..        ...       ...       ...       ...  ...  \n",
       "195  0.042190  0.616171 -0.630889 -0.372842  0.0  \n",
       "196  0.046867  0.592231 -0.619925 -0.377068  0.0  \n",
       "197 -0.062980  0.552717 -0.555537 -0.332758  0.0  \n",
       "198 -0.057350  0.609786 -0.620320 -0.325376  0.0  \n",
       "199  0.182354  0.581894 -0.617750 -0.304265  0.0  \n",
       "\n",
       "[200 rows x 12 columns]"
      ]
     },
     "execution_count": 294,
     "metadata": {},
     "output_type": "execute_result"
    }
   ],
   "source": [
    "freqs_data = pd.read_csv(os.path.join(path_to_output, 'freqs.csv'), header=None)\n",
    "freqs_data"
   ]
  },
  {
   "cell_type": "markdown",
   "metadata": {},
   "source": [
    "Возможно стоит добавить несколько графов из [IMDB](http://nrvis.com/download/data/labeled/IMDB.zip) и [COLLAB](http://nrvis.com/download/data/labeled/COLLAB.zip) datasets"
   ]
  },
  {
   "cell_type": "markdown",
   "metadata": {},
   "source": [
    "## Regression quality metrics on motif ditsribution of original graph "
   ]
  },
  {
   "cell_type": "code",
   "execution_count": 295,
   "metadata": {},
   "outputs": [
    {
     "data": {
      "text/html": [
       "<div>\n",
       "<style scoped>\n",
       "    .dataframe tbody tr th:only-of-type {\n",
       "        vertical-align: middle;\n",
       "    }\n",
       "\n",
       "    .dataframe tbody tr th {\n",
       "        vertical-align: top;\n",
       "    }\n",
       "\n",
       "    .dataframe thead th {\n",
       "        text-align: right;\n",
       "    }\n",
       "</style>\n",
       "<table border=\"1\" class=\"dataframe\">\n",
       "  <thead>\n",
       "    <tr style=\"text-align: right;\">\n",
       "      <th></th>\n",
       "      <th>0</th>\n",
       "      <th>1</th>\n",
       "      <th>2</th>\n",
       "      <th>3</th>\n",
       "      <th>4</th>\n",
       "      <th>5</th>\n",
       "      <th>6</th>\n",
       "      <th>7</th>\n",
       "      <th>8</th>\n",
       "      <th>9</th>\n",
       "      <th>10</th>\n",
       "      <th>11</th>\n",
       "      <th>ndlib</th>\n",
       "    </tr>\n",
       "  </thead>\n",
       "  <tbody>\n",
       "    <tr>\n",
       "      <th>0</th>\n",
       "      <td>0.023235</td>\n",
       "      <td>0.000034</td>\n",
       "      <td>0.974224</td>\n",
       "      <td>0.002493</td>\n",
       "      <td>0.000014</td>\n",
       "      <td>0.0</td>\n",
       "      <td>0.046806</td>\n",
       "      <td>-0.020803</td>\n",
       "      <td>0.655286</td>\n",
       "      <td>-0.669154</td>\n",
       "      <td>-0.346712</td>\n",
       "      <td>0.0</td>\n",
       "      <td>32.9</td>\n",
       "    </tr>\n",
       "    <tr>\n",
       "      <th>1</th>\n",
       "      <td>0.008805</td>\n",
       "      <td>0.000022</td>\n",
       "      <td>0.990187</td>\n",
       "      <td>0.000983</td>\n",
       "      <td>0.000003</td>\n",
       "      <td>0.0</td>\n",
       "      <td>-0.372722</td>\n",
       "      <td>0.196123</td>\n",
       "      <td>0.610110</td>\n",
       "      <td>-0.619428</td>\n",
       "      <td>-0.258243</td>\n",
       "      <td>0.0</td>\n",
       "      <td>40.2</td>\n",
       "    </tr>\n",
       "    <tr>\n",
       "      <th>2</th>\n",
       "      <td>0.037216</td>\n",
       "      <td>0.000047</td>\n",
       "      <td>0.956137</td>\n",
       "      <td>0.006533</td>\n",
       "      <td>0.000067</td>\n",
       "      <td>0.0</td>\n",
       "      <td>-0.424974</td>\n",
       "      <td>-0.163452</td>\n",
       "      <td>0.572081</td>\n",
       "      <td>-0.578891</td>\n",
       "      <td>-0.360956</td>\n",
       "      <td>0.0</td>\n",
       "      <td>45.9</td>\n",
       "    </tr>\n",
       "    <tr>\n",
       "      <th>3</th>\n",
       "      <td>0.015102</td>\n",
       "      <td>0.000026</td>\n",
       "      <td>0.982784</td>\n",
       "      <td>0.002080</td>\n",
       "      <td>0.000009</td>\n",
       "      <td>0.0</td>\n",
       "      <td>0.010402</td>\n",
       "      <td>0.093621</td>\n",
       "      <td>0.633388</td>\n",
       "      <td>-0.638012</td>\n",
       "      <td>-0.427653</td>\n",
       "      <td>0.0</td>\n",
       "      <td>38.3</td>\n",
       "    </tr>\n",
       "    <tr>\n",
       "      <th>4</th>\n",
       "      <td>0.019005</td>\n",
       "      <td>0.000057</td>\n",
       "      <td>0.979387</td>\n",
       "      <td>0.001545</td>\n",
       "      <td>0.000005</td>\n",
       "      <td>0.0</td>\n",
       "      <td>-0.640980</td>\n",
       "      <td>-0.016075</td>\n",
       "      <td>0.501331</td>\n",
       "      <td>-0.516401</td>\n",
       "      <td>-0.266238</td>\n",
       "      <td>0.0</td>\n",
       "      <td>41.6</td>\n",
       "    </tr>\n",
       "    <tr>\n",
       "      <th>...</th>\n",
       "      <td>...</td>\n",
       "      <td>...</td>\n",
       "      <td>...</td>\n",
       "      <td>...</td>\n",
       "      <td>...</td>\n",
       "      <td>...</td>\n",
       "      <td>...</td>\n",
       "      <td>...</td>\n",
       "      <td>...</td>\n",
       "      <td>...</td>\n",
       "      <td>...</td>\n",
       "      <td>...</td>\n",
       "      <td>...</td>\n",
       "    </tr>\n",
       "    <tr>\n",
       "      <th>195</th>\n",
       "      <td>0.033012</td>\n",
       "      <td>0.000077</td>\n",
       "      <td>0.962028</td>\n",
       "      <td>0.004842</td>\n",
       "      <td>0.000040</td>\n",
       "      <td>0.0</td>\n",
       "      <td>0.285519</td>\n",
       "      <td>0.042190</td>\n",
       "      <td>0.616171</td>\n",
       "      <td>-0.630889</td>\n",
       "      <td>-0.372842</td>\n",
       "      <td>0.0</td>\n",
       "      <td>38.0</td>\n",
       "    </tr>\n",
       "    <tr>\n",
       "      <th>196</th>\n",
       "      <td>0.244257</td>\n",
       "      <td>0.001288</td>\n",
       "      <td>0.748766</td>\n",
       "      <td>0.005635</td>\n",
       "      <td>0.000054</td>\n",
       "      <td>0.0</td>\n",
       "      <td>0.347243</td>\n",
       "      <td>0.046867</td>\n",
       "      <td>0.592231</td>\n",
       "      <td>-0.619925</td>\n",
       "      <td>-0.377068</td>\n",
       "      <td>0.0</td>\n",
       "      <td>47.4</td>\n",
       "    </tr>\n",
       "    <tr>\n",
       "      <th>197</th>\n",
       "      <td>0.025558</td>\n",
       "      <td>0.000049</td>\n",
       "      <td>0.972453</td>\n",
       "      <td>0.001935</td>\n",
       "      <td>0.000005</td>\n",
       "      <td>0.0</td>\n",
       "      <td>-0.520757</td>\n",
       "      <td>-0.062980</td>\n",
       "      <td>0.552717</td>\n",
       "      <td>-0.555537</td>\n",
       "      <td>-0.332758</td>\n",
       "      <td>0.0</td>\n",
       "      <td>38.3</td>\n",
       "    </tr>\n",
       "    <tr>\n",
       "      <th>198</th>\n",
       "      <td>0.026766</td>\n",
       "      <td>0.000060</td>\n",
       "      <td>0.971582</td>\n",
       "      <td>0.001587</td>\n",
       "      <td>0.000005</td>\n",
       "      <td>0.0</td>\n",
       "      <td>-0.366340</td>\n",
       "      <td>-0.057350</td>\n",
       "      <td>0.609786</td>\n",
       "      <td>-0.620320</td>\n",
       "      <td>-0.325376</td>\n",
       "      <td>0.0</td>\n",
       "      <td>45.7</td>\n",
       "    </tr>\n",
       "    <tr>\n",
       "      <th>199</th>\n",
       "      <td>0.058705</td>\n",
       "      <td>0.000477</td>\n",
       "      <td>0.936481</td>\n",
       "      <td>0.004257</td>\n",
       "      <td>0.000080</td>\n",
       "      <td>0.0</td>\n",
       "      <td>-0.392369</td>\n",
       "      <td>0.182354</td>\n",
       "      <td>0.581894</td>\n",
       "      <td>-0.617750</td>\n",
       "      <td>-0.304265</td>\n",
       "      <td>0.0</td>\n",
       "      <td>40.1</td>\n",
       "    </tr>\n",
       "  </tbody>\n",
       "</table>\n",
       "<p>200 rows × 13 columns</p>\n",
       "</div>"
      ],
      "text/plain": [
       "            0         1         2         3         4    5         6  \\\n",
       "0    0.023235  0.000034  0.974224  0.002493  0.000014  0.0  0.046806   \n",
       "1    0.008805  0.000022  0.990187  0.000983  0.000003  0.0 -0.372722   \n",
       "2    0.037216  0.000047  0.956137  0.006533  0.000067  0.0 -0.424974   \n",
       "3    0.015102  0.000026  0.982784  0.002080  0.000009  0.0  0.010402   \n",
       "4    0.019005  0.000057  0.979387  0.001545  0.000005  0.0 -0.640980   \n",
       "..        ...       ...       ...       ...       ...  ...       ...   \n",
       "195  0.033012  0.000077  0.962028  0.004842  0.000040  0.0  0.285519   \n",
       "196  0.244257  0.001288  0.748766  0.005635  0.000054  0.0  0.347243   \n",
       "197  0.025558  0.000049  0.972453  0.001935  0.000005  0.0 -0.520757   \n",
       "198  0.026766  0.000060  0.971582  0.001587  0.000005  0.0 -0.366340   \n",
       "199  0.058705  0.000477  0.936481  0.004257  0.000080  0.0 -0.392369   \n",
       "\n",
       "            7         8         9        10   11  ndlib  \n",
       "0   -0.020803  0.655286 -0.669154 -0.346712  0.0   32.9  \n",
       "1    0.196123  0.610110 -0.619428 -0.258243  0.0   40.2  \n",
       "2   -0.163452  0.572081 -0.578891 -0.360956  0.0   45.9  \n",
       "3    0.093621  0.633388 -0.638012 -0.427653  0.0   38.3  \n",
       "4   -0.016075  0.501331 -0.516401 -0.266238  0.0   41.6  \n",
       "..        ...       ...       ...       ...  ...    ...  \n",
       "195  0.042190  0.616171 -0.630889 -0.372842  0.0   38.0  \n",
       "196  0.046867  0.592231 -0.619925 -0.377068  0.0   47.4  \n",
       "197 -0.062980  0.552717 -0.555537 -0.332758  0.0   38.3  \n",
       "198 -0.057350  0.609786 -0.620320 -0.325376  0.0   45.7  \n",
       "199  0.182354  0.581894 -0.617750 -0.304265  0.0   40.1  \n",
       "\n",
       "[200 rows x 13 columns]"
      ]
     },
     "execution_count": 295,
     "metadata": {},
     "output_type": "execute_result"
    }
   ],
   "source": [
    "freqs_data['ndlib'] = ndl_data[0]\n",
    "freqs_data"
   ]
  },
  {
   "cell_type": "code",
   "execution_count": 23,
   "metadata": {},
   "outputs": [],
   "source": [
    "for i, g in enumerate(graphs):\n",
    "    n = g.number_of_nodes()\n",
    "    e = g.number_of_edges()\n",
    "    freqs_data.loc[i, 'nodes'] = n\n",
    "    freqs_data.loc[i, 'edges'] = e\n",
    "    freqs_data.loc[i, 'density'] = 2*e/(n*(n-1))"
   ]
  },
  {
   "cell_type": "code",
   "execution_count": 347,
   "metadata": {},
   "outputs": [
    {
     "data": {
      "text/plain": [
       "-0.05481361216458974"
      ]
     },
     "execution_count": 347,
     "metadata": {},
     "output_type": "execute_result"
    }
   ],
   "source": [
    "cross_val_score(CatBoostRegressor(iterations=100, silent=True),\n",
    "                X=freqs_data.drop('ndlib', axis=1),\n",
    "                y=freqs_data['ndlib'], cv=4, scoring=make_scorer(r2_score)).mean()"
   ]
  },
  {
   "cell_type": "code",
   "execution_count": 356,
   "metadata": {},
   "outputs": [
    {
     "data": {
      "text/plain": [
       "8.428257141205675"
      ]
     },
     "execution_count": 356,
     "metadata": {},
     "output_type": "execute_result"
    }
   ],
   "source": [
    "cross_val_score(CatBoostRegressor(iterations=100, silent=True),\n",
    "                X=freqs_data.drop('ndlib', axis=1),\n",
    "                y=freqs_data['ndlib'], cv=4, scoring=make_scorer(mean_absolute_percentage_error)).mean()"
   ]
  },
  {
   "cell_type": "code",
   "execution_count": 25,
   "metadata": {},
   "outputs": [],
   "source": [
    "# from sklearn.linear_model import LinearRegression\n",
    "# cross_val_score(LinearRegression(),\n",
    "#                 X=freqs_data.drop('ndlib', axis=1),\n",
    "#                 y=freqs_data['ndlib'], cv=4, scoring=make_scorer(r2_score)).mean()"
   ]
  },
  {
   "cell_type": "markdown",
   "metadata": {},
   "source": [
    "Quality isn't that good. We should change the dataset or add 5-motifs features"
   ]
  },
  {
   "cell_type": "markdown",
   "metadata": {},
   "source": [
    "## Sampling"
   ]
  },
  {
   "cell_type": "code",
   "execution_count": 274,
   "metadata": {},
   "outputs": [],
   "source": [
    "def graph_sampling(method, n_graphs=10, n_seeds=5): #подавать сюда лист графов для расчёта \n",
    "    list_of_samples_data = []\n",
    "    for idx_g, G in enumerate(tqdm(graphs[:n_graphs])):\n",
    "\n",
    "        G_num_nodes = G.number_of_nodes()\n",
    "        G_num_edges = G.number_of_edges()\n",
    "        G = nx.convert_node_labels_to_integers(G)\n",
    "        G_freqs = np.array(extract_freqs(G, 4)) #можно брать из прошлой таблицы\n",
    "        G_density = 2*G_num_edges/(G_num_nodes*(G_num_nodes-1))\n",
    "\n",
    "        for idx_part, part in enumerate(range(1,10)): # сэмплим от 10% до 90%\n",
    "\n",
    "            sampled_part_of_nodes = int(G_num_nodes*part/10)\n",
    "\n",
    "            percentage_sampled = sampled_part_of_nodes / G_num_nodes\n",
    "\n",
    "            for seed in range(174,n_seeds+175):\n",
    "\n",
    "                model = method(sampled_part_of_nodes, seed=seed)\n",
    "                sample = model.sample(G)\n",
    "                sample = nx.subgraph(G, max(nx.connected_components(sample), key=len)) #max connected component\n",
    "\n",
    "                sample_freqs = np.array(extract_freqs(sample, 4))\n",
    "\n",
    "                sample_num_nodes = sample.number_of_nodes()\n",
    "                sample_num_edges = sample.number_of_edges()\n",
    "\n",
    "                sample_density = 2*sample_num_edges/(sample_num_nodes*(sample_num_nodes-1))\n",
    "\n",
    "                rel_density = sample_density / G_density\n",
    "\n",
    "                KL_divergence = entropy(G_freqs, sample_freqs)\n",
    "\n",
    "                list_of_samples_data.append((idx_g, percentage_sampled, seed, KL_divergence, rel_density))\n",
    "\n",
    "    KLD = pd.DataFrame(list_of_samples_data, columns=['idx_g', 'nodes', 'seed', 'KL', 'rel dens'])\n",
    "    KLD['rounded_nodes'] = np.round(KLD_data.nodes, decimals=2)\n",
    "\n",
    "    return KLD\n",
    "\n",
    "def plot_KLD(KLD, name):\n",
    "    \n",
    "    plt.figure(figsize=(20,6));\n",
    "    plt.suptitle(name, fontsize=22)\n",
    "    plt.subplot(121);\n",
    "    g1 = sns.boxplot(x='rounded_nodes',y='KL', data=KLD);\n",
    "    g1.set_yscale('log');\n",
    "    plt.subplot(122);\n",
    "    g2 = sns.scatterplot(x='rounded_nodes',\n",
    "                         y='KL',\n",
    "                         data = KLD[KLD.KL != np.inf].groupby('rounded_nodes').KL.mean().reset_index())\n",
    "    g2.set_yscale('log');\n",
    "    "
   ]
  },
  {
   "cell_type": "code",
   "execution_count": 237,
   "metadata": {},
   "outputs": [],
   "source": [
    "methods = [(CommunityStructureExpansionSampler, 'Community Structure Expansion Sampler'),\n",
    "           (MetropolisHastingsRandomWalkSampler, 'Metropolis Hastings RandomWalk Sampler'),\n",
    "           (BreadthFirstSearchSampler, 'Breadth First Search Sampler'),\n",
    "             (PageRankBasedSampler, 'Page Rank Based Sampler'),\n",
    "             (RandomWalkSampler, 'Random Walk Sampler'),\n",
    "             (CommonNeighborAwareRandomWalkSampler, 'Common Neighbor Aware RandomWalk Sampler')]"
   ]
  },
  {
   "cell_type": "code",
   "execution_count": 241,
   "metadata": {
    "scrolled": false
   },
   "outputs": [
    {
     "data": {
      "application/vnd.jupyter.widget-view+json": {
       "model_id": "092ed7a577c9427baae5b77e1eb7aab0",
       "version_major": 2,
       "version_minor": 0
      },
      "text/plain": [
       "HBox(children=(FloatProgress(value=0.0, max=6.0), HTML(value='')))"
      ]
     },
     "metadata": {},
     "output_type": "display_data"
    },
    {
     "data": {
      "application/vnd.jupyter.widget-view+json": {
       "model_id": "01db5364993e4f1280f33f8cc7ea4aca",
       "version_major": 2,
       "version_minor": 0
      },
      "text/plain": [
       "HBox(children=(FloatProgress(value=0.0, max=10.0), HTML(value='')))"
      ]
     },
     "metadata": {},
     "output_type": "display_data"
    },
    {
     "name": "stdout",
     "output_type": "stream",
     "text": [
      "\n"
     ]
    },
    {
     "data": {
      "application/vnd.jupyter.widget-view+json": {
       "model_id": "2211b0040b2e41af9292e3f88869957b",
       "version_major": 2,
       "version_minor": 0
      },
      "text/plain": [
       "HBox(children=(FloatProgress(value=0.0, max=10.0), HTML(value='')))"
      ]
     },
     "metadata": {},
     "output_type": "display_data"
    },
    {
     "name": "stdout",
     "output_type": "stream",
     "text": [
      "\n"
     ]
    },
    {
     "data": {
      "application/vnd.jupyter.widget-view+json": {
       "model_id": "df73c0187beb4095bd41963a4b9583db",
       "version_major": 2,
       "version_minor": 0
      },
      "text/plain": [
       "HBox(children=(FloatProgress(value=0.0, max=10.0), HTML(value='')))"
      ]
     },
     "metadata": {},
     "output_type": "display_data"
    },
    {
     "name": "stdout",
     "output_type": "stream",
     "text": [
      "\n"
     ]
    },
    {
     "data": {
      "application/vnd.jupyter.widget-view+json": {
       "model_id": "8e779addecfb4966b59279ff51730194",
       "version_major": 2,
       "version_minor": 0
      },
      "text/plain": [
       "HBox(children=(FloatProgress(value=0.0, max=10.0), HTML(value='')))"
      ]
     },
     "metadata": {},
     "output_type": "display_data"
    },
    {
     "name": "stdout",
     "output_type": "stream",
     "text": [
      "\n"
     ]
    },
    {
     "data": {
      "application/vnd.jupyter.widget-view+json": {
       "model_id": "f549e5d53d9143bfa840227bbf2ceb5a",
       "version_major": 2,
       "version_minor": 0
      },
      "text/plain": [
       "HBox(children=(FloatProgress(value=0.0, max=10.0), HTML(value='')))"
      ]
     },
     "metadata": {},
     "output_type": "display_data"
    },
    {
     "name": "stdout",
     "output_type": "stream",
     "text": [
      "\n"
     ]
    },
    {
     "data": {
      "application/vnd.jupyter.widget-view+json": {
       "model_id": "c8b8baa9665243f69047f30ccebef6b2",
       "version_major": 2,
       "version_minor": 0
      },
      "text/plain": [
       "HBox(children=(FloatProgress(value=0.0, max=10.0), HTML(value='')))"
      ]
     },
     "metadata": {},
     "output_type": "display_data"
    },
    {
     "name": "stdout",
     "output_type": "stream",
     "text": [
      "\n",
      "\n"
     ]
    }
   ],
   "source": [
    "KDLs = []\n",
    "for method, name in tqdm(methods):\n",
    "    KDL = graph_sampling(method)\n",
    "    KDLs.append(KDL)"
   ]
  },
  {
   "cell_type": "code",
   "execution_count": 269,
   "metadata": {
    "scrolled": false
   },
   "outputs": [
    {
     "data": {
      "image/png": "[encoded data removed]",
      "text/plain": [
       "<Figure size 1440x432 with 2 Axes>"
      ]
     },
     "metadata": {},
     "output_type": "display_data"
    },
    {
     "data": {
      "image/png": "[encoded data removed]",
      "text/plain": [
       "<Figure size 1440x432 with 2 Axes>"
      ]
     },
     "metadata": {},
     "output_type": "display_data"
    },
    {
     "data": {
      "image/png": "[encoded data removed]",
      "text/plain": [
       "<Figure size 1440x432 with 2 Axes>"
      ]
     },
     "metadata": {},
     "output_type": "display_data"
    },
    {
     "data": {
      "image/png": "[encoded data removed]",
      "text/plain": [
       "<Figure size 1440x432 with 2 Axes>"
      ]
     },
     "metadata": {},
     "output_type": "display_data"
    },
    {
     "data": {
      "image/png": "[encoded data removed]",
      "text/plain": [
       "<Figure size 1440x432 with 2 Axes>"
      ]
     },
     "metadata": {},
     "output_type": "display_data"
    },
    {
     "data": {
      "image/png": "[encoded data removed]",
      "text/plain": [
       "<Figure size 1440x432 with 2 Axes>"
      ]
     },
     "metadata": {},
     "output_type": "display_data"
    }
   ],
   "source": [
    "for LDK, name in list(zip(KDLs, methods)):\n",
    "    plot_KLD(LDK, name[1])"
   ]
  },
  {
   "cell_type": "code",
   "execution_count": 291,
   "metadata": {},
   "outputs": [
    {
     "data": {
      "text/plain": [
       "<matplotlib.legend.Legend at 0x7f9345a41b20>"
      ]
     },
     "execution_count": 291,
     "metadata": {},
     "output_type": "execute_result"
    },
    {
     "data": {
      "image/png": "[encoded data removed]",
      "text/plain": [
       "<Figure size 720x432 with 1 Axes>"
      ]
     },
     "metadata": {},
     "output_type": "display_data"
    }
   ],
   "source": [
    "plt.figure(figsize=(10,6))\n",
    "mean_KLDs = []\n",
    "for KLD in KDLs:\n",
    "    test = KLD[KLD.KL != np.inf].groupby('rounded_nodes').KL.mean().reset_index()\n",
    "    ax = plt.scatter(x=test.rounded_nodes, y=test.KL)\n",
    "    plt.yscale('log')\n",
    "    mean_KLDs.append(test.KL.mean())\n",
    "    \n",
    "plt.legend([x[0][1]+' - mean KLD:  '+str(np.round(x[1], decimals=3)) for x in zip(methods, mean_KLDs)])"
   ]
  },
  {
   "cell_type": "markdown",
   "metadata": {},
   "source": [
    "Decide sampling method and percentage we want to take and sample it"
   ]
  },
  {
   "cell_type": "code",
   "execution_count": 382,
   "metadata": {},
   "outputs": [
    {
     "data": {
      "application/vnd.jupyter.widget-view+json": {
       "model_id": "990782db77a14588b747561bf2f8d0f8",
       "version_major": 2,
       "version_minor": 0
      },
      "text/plain": [
       "HBox(children=(FloatProgress(value=0.0, max=200.0), HTML(value='')))"
      ]
     },
     "metadata": {},
     "output_type": "display_data"
    },
    {
     "name": "stdout",
     "output_type": "stream",
     "text": [
      "\n"
     ]
    }
   ],
   "source": [
    "method = PageRankBasedSampler\n",
    "percentage = 0.7\n",
    "seed = 456\n",
    "\n",
    "list_of_samples_data = []\n",
    "for G in tqdm(graphs):\n",
    "    G_num_nodes = G.number_of_nodes()\n",
    "    G_num_edges = G.number_of_edges()\n",
    "    G = nx.convert_node_labels_to_integers(G)\n",
    "    G_density = 2*G_num_edges/(G_num_nodes*(G_num_nodes-1))\n",
    "    \n",
    "    sampled_part_of_nodes = int(G_num_nodes*percentage)\n",
    "    \n",
    "    model = method(sampled_part_of_nodes, seed=seed)\n",
    "    sample = model.sample(G)\n",
    "    sample = nx.subgraph(G, max(nx.connected_components(sample), key=len)) #max connected component\n",
    "    \n",
    "    sample_freqs = np.array(extract_freqs(sample, 4, random=10))\n",
    "    \n",
    "    list_of_samples_data.append(sample_freqs)"
   ]
  },
  {
   "cell_type": "code",
   "execution_count": 403,
   "metadata": {},
   "outputs": [
    {
     "data": {
      "text/html": [
       "<div>\n",
       "<style scoped>\n",
       "    .dataframe tbody tr th:only-of-type {\n",
       "        vertical-align: middle;\n",
       "    }\n",
       "\n",
       "    .dataframe tbody tr th {\n",
       "        vertical-align: top;\n",
       "    }\n",
       "\n",
       "    .dataframe thead th {\n",
       "        text-align: right;\n",
       "    }\n",
       "</style>\n",
       "<table border=\"1\" class=\"dataframe\">\n",
       "  <thead>\n",
       "    <tr style=\"text-align: right;\">\n",
       "      <th></th>\n",
       "      <th>0</th>\n",
       "      <th>1</th>\n",
       "      <th>2</th>\n",
       "      <th>3</th>\n",
       "      <th>4</th>\n",
       "      <th>5</th>\n",
       "      <th>6</th>\n",
       "      <th>7</th>\n",
       "      <th>8</th>\n",
       "      <th>9</th>\n",
       "      <th>10</th>\n",
       "      <th>11</th>\n",
       "    </tr>\n",
       "  </thead>\n",
       "  <tbody>\n",
       "    <tr>\n",
       "      <th>0</th>\n",
       "      <td>0.036355</td>\n",
       "      <td>0.000100</td>\n",
       "      <td>0.958922</td>\n",
       "      <td>0.004578</td>\n",
       "      <td>0.000045</td>\n",
       "      <td>0.0</td>\n",
       "      <td>-0.038501</td>\n",
       "      <td>0.005500</td>\n",
       "      <td>0.658176</td>\n",
       "      <td>-0.671010</td>\n",
       "      <td>-0.339172</td>\n",
       "      <td>0.0</td>\n",
       "    </tr>\n",
       "    <tr>\n",
       "      <th>1</th>\n",
       "      <td>0.013610</td>\n",
       "      <td>0.000046</td>\n",
       "      <td>0.984480</td>\n",
       "      <td>0.001855</td>\n",
       "      <td>0.000010</td>\n",
       "      <td>0.0</td>\n",
       "      <td>-0.503769</td>\n",
       "      <td>0.102314</td>\n",
       "      <td>0.546255</td>\n",
       "      <td>-0.549724</td>\n",
       "      <td>-0.367638</td>\n",
       "      <td>0.0</td>\n",
       "    </tr>\n",
       "    <tr>\n",
       "      <th>2</th>\n",
       "      <td>0.064099</td>\n",
       "      <td>0.000092</td>\n",
       "      <td>0.923834</td>\n",
       "      <td>0.011789</td>\n",
       "      <td>0.000185</td>\n",
       "      <td>0.0</td>\n",
       "      <td>-0.655477</td>\n",
       "      <td>-0.285664</td>\n",
       "      <td>0.458391</td>\n",
       "      <td>-0.471678</td>\n",
       "      <td>-0.236946</td>\n",
       "      <td>0.0</td>\n",
       "    </tr>\n",
       "    <tr>\n",
       "      <th>3</th>\n",
       "      <td>0.024095</td>\n",
       "      <td>0.000064</td>\n",
       "      <td>0.972127</td>\n",
       "      <td>0.003692</td>\n",
       "      <td>0.000021</td>\n",
       "      <td>0.0</td>\n",
       "      <td>0.127660</td>\n",
       "      <td>0.203458</td>\n",
       "      <td>0.628992</td>\n",
       "      <td>-0.631651</td>\n",
       "      <td>-0.384310</td>\n",
       "      <td>0.0</td>\n",
       "    </tr>\n",
       "    <tr>\n",
       "      <th>4</th>\n",
       "      <td>0.036487</td>\n",
       "      <td>0.000187</td>\n",
       "      <td>0.960284</td>\n",
       "      <td>0.003027</td>\n",
       "      <td>0.000014</td>\n",
       "      <td>0.0</td>\n",
       "      <td>-0.519656</td>\n",
       "      <td>0.129668</td>\n",
       "      <td>0.554038</td>\n",
       "      <td>-0.586455</td>\n",
       "      <td>-0.249513</td>\n",
       "      <td>0.0</td>\n",
       "    </tr>\n",
       "    <tr>\n",
       "      <th>...</th>\n",
       "      <td>...</td>\n",
       "      <td>...</td>\n",
       "      <td>...</td>\n",
       "      <td>...</td>\n",
       "      <td>...</td>\n",
       "      <td>...</td>\n",
       "      <td>...</td>\n",
       "      <td>...</td>\n",
       "      <td>...</td>\n",
       "      <td>...</td>\n",
       "      <td>...</td>\n",
       "      <td>...</td>\n",
       "    </tr>\n",
       "    <tr>\n",
       "      <th>195</th>\n",
       "      <td>0.046289</td>\n",
       "      <td>0.000209</td>\n",
       "      <td>0.944592</td>\n",
       "      <td>0.008809</td>\n",
       "      <td>0.000102</td>\n",
       "      <td>0.0</td>\n",
       "      <td>0.536757</td>\n",
       "      <td>0.141300</td>\n",
       "      <td>0.538592</td>\n",
       "      <td>-0.552355</td>\n",
       "      <td>-0.311044</td>\n",
       "      <td>0.0</td>\n",
       "    </tr>\n",
       "    <tr>\n",
       "      <th>196</th>\n",
       "      <td>0.336197</td>\n",
       "      <td>0.001562</td>\n",
       "      <td>0.650680</td>\n",
       "      <td>0.011404</td>\n",
       "      <td>0.000156</td>\n",
       "      <td>0.0</td>\n",
       "      <td>0.729121</td>\n",
       "      <td>-0.251191</td>\n",
       "      <td>0.417911</td>\n",
       "      <td>-0.433471</td>\n",
       "      <td>-0.206733</td>\n",
       "      <td>0.0</td>\n",
       "    </tr>\n",
       "    <tr>\n",
       "      <th>197</th>\n",
       "      <td>0.047712</td>\n",
       "      <td>0.000146</td>\n",
       "      <td>0.949546</td>\n",
       "      <td>0.002586</td>\n",
       "      <td>0.000010</td>\n",
       "      <td>0.0</td>\n",
       "      <td>-0.543661</td>\n",
       "      <td>0.013064</td>\n",
       "      <td>0.524567</td>\n",
       "      <td>-0.528587</td>\n",
       "      <td>-0.386894</td>\n",
       "      <td>0.0</td>\n",
       "    </tr>\n",
       "    <tr>\n",
       "      <th>198</th>\n",
       "      <td>0.049528</td>\n",
       "      <td>0.000181</td>\n",
       "      <td>0.946403</td>\n",
       "      <td>0.003868</td>\n",
       "      <td>0.000020</td>\n",
       "      <td>0.0</td>\n",
       "      <td>-0.372754</td>\n",
       "      <td>-0.033042</td>\n",
       "      <td>0.608178</td>\n",
       "      <td>-0.624699</td>\n",
       "      <td>-0.315963</td>\n",
       "      <td>0.0</td>\n",
       "    </tr>\n",
       "    <tr>\n",
       "      <th>199</th>\n",
       "      <td>0.110425</td>\n",
       "      <td>0.001093</td>\n",
       "      <td>0.879467</td>\n",
       "      <td>0.008747</td>\n",
       "      <td>0.000267</td>\n",
       "      <td>0.0</td>\n",
       "      <td>-0.746714</td>\n",
       "      <td>0.017921</td>\n",
       "      <td>0.418160</td>\n",
       "      <td>-0.433094</td>\n",
       "      <td>-0.282258</td>\n",
       "      <td>0.0</td>\n",
       "    </tr>\n",
       "  </tbody>\n",
       "</table>\n",
       "<p>200 rows × 12 columns</p>\n",
       "</div>"
      ],
      "text/plain": [
       "            0         1         2         3         4    5         6  \\\n",
       "0    0.036355  0.000100  0.958922  0.004578  0.000045  0.0 -0.038501   \n",
       "1    0.013610  0.000046  0.984480  0.001855  0.000010  0.0 -0.503769   \n",
       "2    0.064099  0.000092  0.923834  0.011789  0.000185  0.0 -0.655477   \n",
       "3    0.024095  0.000064  0.972127  0.003692  0.000021  0.0  0.127660   \n",
       "4    0.036487  0.000187  0.960284  0.003027  0.000014  0.0 -0.519656   \n",
       "..        ...       ...       ...       ...       ...  ...       ...   \n",
       "195  0.046289  0.000209  0.944592  0.008809  0.000102  0.0  0.536757   \n",
       "196  0.336197  0.001562  0.650680  0.011404  0.000156  0.0  0.729121   \n",
       "197  0.047712  0.000146  0.949546  0.002586  0.000010  0.0 -0.543661   \n",
       "198  0.049528  0.000181  0.946403  0.003868  0.000020  0.0 -0.372754   \n",
       "199  0.110425  0.001093  0.879467  0.008747  0.000267  0.0 -0.746714   \n",
       "\n",
       "            7         8         9        10   11  \n",
       "0    0.005500  0.658176 -0.671010 -0.339172  0.0  \n",
       "1    0.102314  0.546255 -0.549724 -0.367638  0.0  \n",
       "2   -0.285664  0.458391 -0.471678 -0.236946  0.0  \n",
       "3    0.203458  0.628992 -0.631651 -0.384310  0.0  \n",
       "4    0.129668  0.554038 -0.586455 -0.249513  0.0  \n",
       "..        ...       ...       ...       ...  ...  \n",
       "195  0.141300  0.538592 -0.552355 -0.311044  0.0  \n",
       "196 -0.251191  0.417911 -0.433471 -0.206733  0.0  \n",
       "197  0.013064  0.524567 -0.528587 -0.386894  0.0  \n",
       "198 -0.033042  0.608178 -0.624699 -0.315963  0.0  \n",
       "199  0.017921  0.418160 -0.433094 -0.282258  0.0  \n",
       "\n",
       "[200 rows x 12 columns]"
      ]
     },
     "execution_count": 403,
     "metadata": {},
     "output_type": "execute_result"
    }
   ],
   "source": [
    "df = pd.DataFrame(list_of_samples_data)\n",
    "df"
   ]
  },
  {
   "cell_type": "code",
   "execution_count": 384,
   "metadata": {},
   "outputs": [
    {
     "data": {
      "text/html": [
       "<div>\n",
       "<style scoped>\n",
       "    .dataframe tbody tr th:only-of-type {\n",
       "        vertical-align: middle;\n",
       "    }\n",
       "\n",
       "    .dataframe tbody tr th {\n",
       "        vertical-align: top;\n",
       "    }\n",
       "\n",
       "    .dataframe thead th {\n",
       "        text-align: right;\n",
       "    }\n",
       "</style>\n",
       "<table border=\"1\" class=\"dataframe\">\n",
       "  <thead>\n",
       "    <tr style=\"text-align: right;\">\n",
       "      <th></th>\n",
       "      <th>0</th>\n",
       "    </tr>\n",
       "  </thead>\n",
       "  <tbody>\n",
       "    <tr>\n",
       "      <th>0</th>\n",
       "      <td>32.9</td>\n",
       "    </tr>\n",
       "    <tr>\n",
       "      <th>1</th>\n",
       "      <td>40.2</td>\n",
       "    </tr>\n",
       "    <tr>\n",
       "      <th>2</th>\n",
       "      <td>45.9</td>\n",
       "    </tr>\n",
       "    <tr>\n",
       "      <th>3</th>\n",
       "      <td>38.3</td>\n",
       "    </tr>\n",
       "    <tr>\n",
       "      <th>4</th>\n",
       "      <td>41.6</td>\n",
       "    </tr>\n",
       "    <tr>\n",
       "      <th>...</th>\n",
       "      <td>...</td>\n",
       "    </tr>\n",
       "    <tr>\n",
       "      <th>195</th>\n",
       "      <td>38.0</td>\n",
       "    </tr>\n",
       "    <tr>\n",
       "      <th>196</th>\n",
       "      <td>47.4</td>\n",
       "    </tr>\n",
       "    <tr>\n",
       "      <th>197</th>\n",
       "      <td>38.3</td>\n",
       "    </tr>\n",
       "    <tr>\n",
       "      <th>198</th>\n",
       "      <td>45.7</td>\n",
       "    </tr>\n",
       "    <tr>\n",
       "      <th>199</th>\n",
       "      <td>40.1</td>\n",
       "    </tr>\n",
       "  </tbody>\n",
       "</table>\n",
       "<p>200 rows × 1 columns</p>\n",
       "</div>"
      ],
      "text/plain": [
       "        0\n",
       "0    32.9\n",
       "1    40.2\n",
       "2    45.9\n",
       "3    38.3\n",
       "4    41.6\n",
       "..    ...\n",
       "195  38.0\n",
       "196  47.4\n",
       "197  38.3\n",
       "198  45.7\n",
       "199  40.1\n",
       "\n",
       "[200 rows x 1 columns]"
      ]
     },
     "execution_count": 384,
     "metadata": {},
     "output_type": "execute_result"
    }
   ],
   "source": [
    "ndl_data"
   ]
  },
  {
   "cell_type": "markdown",
   "metadata": {},
   "source": [
    "Check regression metrics"
   ]
  },
  {
   "cell_type": "code",
   "execution_count": 404,
   "metadata": {},
   "outputs": [
    {
     "data": {
      "text/plain": [
       "-0.05481361216458974"
      ]
     },
     "execution_count": 404,
     "metadata": {},
     "output_type": "execute_result"
    }
   ],
   "source": [
    "cross_val_score(CatBoostRegressor(iterations=100, silent=True),\n",
    "                X=freqs_data.drop('ndlib', axis=1),\n",
    "                y=freqs_data['ndlib'], cv=4, scoring=make_scorer(r2_score)).mean() #orig_data score again"
   ]
  },
  {
   "cell_type": "code",
   "execution_count": 405,
   "metadata": {},
   "outputs": [
    {
     "data": {
      "text/plain": [
       "-0.0042400738606287736"
      ]
     },
     "execution_count": 405,
     "metadata": {},
     "output_type": "execute_result"
    }
   ],
   "source": [
    "cross_val_score(CatBoostRegressor(iterations=100, silent=True),\n",
    "                X=df,\n",
    "                y=ndl_data, cv=4, scoring=make_scorer(r2_score)).mean() #sampled_data score "
   ]
  },
  {
   "cell_type": "code",
   "execution_count": 406,
   "metadata": {},
   "outputs": [
    {
     "data": {
      "text/plain": [
       "8.428257141205675"
      ]
     },
     "execution_count": 406,
     "metadata": {},
     "output_type": "execute_result"
    }
   ],
   "source": [
    "cross_val_score(CatBoostRegressor(iterations=100, silent=True),\n",
    "                X=freqs_data.drop('ndlib', axis=1),\n",
    "                y=freqs_data['ndlib'], cv=4, scoring=make_scorer(mean_absolute_percentage_error)).mean()#orig_data score again"
   ]
  },
  {
   "cell_type": "code",
   "execution_count": 407,
   "metadata": {},
   "outputs": [
    {
     "data": {
      "text/plain": [
       "9.506879891565353"
      ]
     },
     "execution_count": 407,
     "metadata": {},
     "output_type": "execute_result"
    }
   ],
   "source": [
    "cross_val_score(CatBoostRegressor(iterations=100, silent=True),\n",
    "                X=df,\n",
    "                y=ndl_data, cv=4, scoring=make_scorer(mean_absolute_percentage_error)).mean() #sampled_data score "
   ]
  },
  {
   "cell_type": "markdown",
   "metadata": {},
   "source": [
    "Добавляем density and size and check metrics"
   ]
  },
  {
   "cell_type": "code",
   "execution_count": null,
   "metadata": {},
   "outputs": [],
   "source": []
  },
  {
   "cell_type": "code",
   "execution_count": null,
   "metadata": {},
   "outputs": [],
   "source": []
  },
  {
   "cell_type": "code",
   "execution_count": null,
   "metadata": {},
   "outputs": [],
   "source": []
  }
 ],
 "metadata": {
  "kernelspec": {
   "display_name": "Python 3",
   "language": "python",
   "name": "python3"
  },
  "language_info": {
   "codemirror_mode": {
    "name": "ipython",
    "version": 3
   },
   "file_extension": ".py",
   "mimetype": "text/x-python",
   "name": "python",
   "nbconvert_exporter": "python",
   "pygments_lexer": "ipython3",
   "version": "3.8.5"
  }
 },
 "nbformat": 4,
 "nbformat_minor": 4
}
